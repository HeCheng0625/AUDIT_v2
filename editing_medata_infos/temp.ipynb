{
 "cells": [
  {
   "cell_type": "code",
   "execution_count": 13,
   "metadata": {},
   "outputs": [],
   "source": [
    "import os\n",
    "import json\n",
    "import numpy as np"
   ]
  },
  {
   "cell_type": "code",
   "execution_count": null,
   "metadata": {},
   "outputs": [],
   "source": [
    "as_json = \"/home/v-yuancwang/AUDIT_v2/medata_infos/audioset_sl.json\"\n",
    "with open(as_json, \"r\") as f:\n",
    "    as_lists = json.load(f)\n",
    "as_dict = {}\n",
    "for info in as_lists:\n",
    "    as_dict[info[\"mel\"].split(\"/\")[-1]] = info[\"caption\"]\n",
    "as_dict"
   ]
  },
  {
   "cell_type": "code",
   "execution_count": 10,
   "metadata": {},
   "outputs": [
    {
     "data": {
      "text/plain": [
       "79147"
      ]
     },
     "execution_count": 10,
     "metadata": {},
     "output_type": "execute_result"
    }
   ],
   "source": [
    "as_inpaint_mel_path = \"/blob/v-yuancwang/DiffAudioImg/VGGSound/data/vggsound/sr/mel\"\n",
    "as_mel_path = \"/blob/v-yuancwang/DiffAudioImg/VGGSound/data/vggsound/mel\"\n",
    "as_inpaint_mels = os.listdir(as_inpaint_mel_path)\n",
    "len(as_inpaint_mels)"
   ]
  },
  {
   "cell_type": "code",
   "execution_count": 28,
   "metadata": {},
   "outputs": [],
   "source": [
    "caption_templates = [\"Inpaint: \\{A\\}\", \"Inpaint: \\{A\\}\", \"Inpaint '\\{A\\}'\", \"Inpaint the audio\",\n",
    "                    \"Inpaint the audio: \\{A\\}\", \"Inpainting: \\{A\\}\", \"Inpaint\",\n",
    "                    \"Fix: \\{A\\}\", \"Reconstruct: \\{A\\}\", \"Reconstruct\",\n",
    "                    \"Inpaint missing audio\", \"Inpaint missing audio \\{A\\}\",\n",
    "                    \"Restore corrupted audio: \\{A\\}\",\n",
    "                    \"Replace missing audio with '\\{A\\}'\",\n",
    "                    \"Regenerate masked parts of the audio\",\n",
    "                    \"Regenerate masked parts of the audio: \\{A\\}\",\n",
    "                    \"Reconstruct damaged sections of the audio\",\n",
    "                    \"Reconstruct damaged sections of the audio: \\{A\\}\"]"
   ]
  },
  {
   "cell_type": "code",
   "execution_count": 29,
   "metadata": {},
   "outputs": [
    {
     "data": {
      "text/plain": [
       "79147"
      ]
     },
     "execution_count": 29,
     "metadata": {},
     "output_type": "execute_result"
    }
   ],
   "source": [
    "as_inpaint_infos = []\n",
    "for mel in as_inpaint_mels[:]:\n",
    "    if mel in as_dict:\n",
    "        as_inpaint_infos.append({\"in_mel\": os.path.join(as_inpaint_mel_path, mel),\n",
    "                                \"out_mel\":os.path.join(as_mel_path, mel),\n",
    "                                \"caption\": np.random.choice(caption_templates).replace(\"\\{A\\}\", as_dict[mel])})\n",
    "len(as_inpaint_infos)"
   ]
  },
  {
   "cell_type": "code",
   "execution_count": 30,
   "metadata": {},
   "outputs": [],
   "source": [
    "save_json_path = \"/home/v-yuancwang/AUDIT_v2/editing_medata_infos/inpaint_as.json\"\n",
    "with open(save_json_path, \"w\") as f:\n",
    "    json.dump(as_inpaint_infos, f)"
   ]
  }
 ],
 "metadata": {
  "kernelspec": {
   "display_name": "control",
   "language": "python",
   "name": "python3"
  },
  "language_info": {
   "codemirror_mode": {
    "name": "ipython",
    "version": 3
   },
   "file_extension": ".py",
   "mimetype": "text/x-python",
   "name": "python",
   "nbconvert_exporter": "python",
   "pygments_lexer": "ipython3",
   "version": "3.8.5"
  },
  "orig_nbformat": 4
 },
 "nbformat": 4,
 "nbformat_minor": 2
}
