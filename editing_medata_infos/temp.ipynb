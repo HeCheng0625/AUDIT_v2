{
 "cells": [
  {
   "cell_type": "code",
   "execution_count": 13,
   "metadata": {},
   "outputs": [],
   "source": [
    "import os\n",
    "import json\n",
    "import numpy as np"
   ]
  },
  {
   "cell_type": "code",
   "execution_count": null,
   "metadata": {},
   "outputs": [],
   "source": [
    "as_json = \"/home/v-yuancwang/AUDIT_v2/medata_infos/audioset_sl.json\"\n",
    "with open(as_json, \"r\") as f:\n",
    "    as_lists = json.load(f)\n",
    "as_dict = {}\n",
    "for info in as_lists:\n",
    "    as_dict[info[\"mel\"].split(\"/\")[-1]] = info[\"caption\"]\n",
    "as_dict"
   ]
  },
  {
   "cell_type": "code",
   "execution_count": 10,
   "metadata": {},
   "outputs": [
    {
     "data": {
      "text/plain": [
       "79147"
      ]
     },
     "execution_count": 10,
     "metadata": {},
     "output_type": "execute_result"
    }
   ],
   "source": [
    "as_inpaint_mel_path = \"/blob/v-yuancwang/WavCaps/AudioSet_SL/inpaint/mel\"\n",
    "as_mel_path = \"/blob/v-yuancwang/WavCaps/AudioSet_SL/mel\"\n",
    "as_inpaint_mels = os.listdir(as_inpaint_mel_path)\n",
    "len(as_inpaint_mels)"
   ]
  },
  {
   "cell_type": "code",
   "execution_count": 14,
   "metadata": {},
   "outputs": [],
   "source": [
    "caption_templates = [\"Inpaint: \\{A\\}\", \"Inpaint: \\{A\\}\", \"Inpaint \\{A\\}\", \"Inpaint the audio\",\n",
    "                    \"Inpaint the audio: \\{A\\}\", \"Inpainting: \\{A\\}\", \"Inpaint\",\n",
    "                    \"Fix: \\{A\\}\", \"Reconstruct: \\{A\\}\", \"Reconstruct\",\n",
    "                    \"Inpaint missing audio\", \"Inpaint missing audio \\{A\\}\",\n",
    "                    \"Restore corrupted audio: \\{A\\}\"\n",
    "                    \"Replace missing audio with '\\{A\\}'\"\n",
    "                    \"Regenerate masked parts of the audio\",\n",
    "                    \"Regenerate masked parts of the audio: \\{A\\}\",\n",
    "                    \"Reconstruct damaged sections of the audio\"\n",
    "                    \"Reconstruct damaged sections of the audio: \\{A\\}\"]"
   ]
  },
  {
   "cell_type": "code",
   "execution_count": 17,
   "metadata": {},
   "outputs": [
    {
     "data": {
      "text/plain": [
       "79147"
      ]
     },
     "execution_count": 17,
     "metadata": {},
     "output_type": "execute_result"
    }
   ],
   "source": [
    "as_inpaint_infos = []\n",
    "for mel in as_inpaint_mels[:]:\n",
    "    if mel in as_dict:\n",
    "        as_inpaint_infos.append({\"in_mel\": os.path.join(as_mel_path, mel),\n",
    "                                \"out_mel\":os.path.join(as_inpaint_mel_path, mel),\n",
    "                                \"caption\": np.random.choice(caption_templates).replace(\"\\{A\\}\", as_dict[mel])})\n",
    "len(as_inpaint_infos)"
   ]
  },
  {
   "cell_type": "code",
   "execution_count": 18,
   "metadata": {},
   "outputs": [
    {
     "data": {
      "text/plain": [
       "[{'in_mel': '/blob/v-yuancwang/WavCaps/AudioSet_SL/mel/gSL3LcXini4.npy',\n",
       "  'out_mel': '/blob/v-yuancwang/WavCaps/AudioSet_SL/inpaint/mel/gSL3LcXini4.npy',\n",
       "  'caption': 'Inpainting: Background music is playing.'},\n",
       " {'in_mel': '/blob/v-yuancwang/WavCaps/AudioSet_SL/mel/AWLdGLGn49Q.npy',\n",
       "  'out_mel': '/blob/v-yuancwang/WavCaps/AudioSet_SL/inpaint/mel/AWLdGLGn49Q.npy',\n",
       "  'caption': 'Inpaint missing audio'},\n",
       " {'in_mel': '/blob/v-yuancwang/WavCaps/AudioSet_SL/mel/0aD5-6VXmsI.npy',\n",
       "  'out_mel': '/blob/v-yuancwang/WavCaps/AudioSet_SL/inpaint/mel/0aD5-6VXmsI.npy',\n",
       "  'caption': 'Inpaint Music is playing, glasses are clinking, and a man is singing.'},\n",
       " {'in_mel': '/blob/v-yuancwang/WavCaps/AudioSet_SL/mel/-5bUWtaoJ7U.npy',\n",
       "  'out_mel': '/blob/v-yuancwang/WavCaps/AudioSet_SL/inpaint/mel/-5bUWtaoJ7U.npy',\n",
       "  'caption': 'Inpaint'},\n",
       " {'in_mel': '/blob/v-yuancwang/WavCaps/AudioSet_SL/mel/hYBc3sbGIn4.npy',\n",
       "  'out_mel': '/blob/v-yuancwang/WavCaps/AudioSet_SL/inpaint/mel/hYBc3sbGIn4.npy',\n",
       "  'caption': 'Inpaint A car is heard accelerating.'},\n",
       " {'in_mel': '/blob/v-yuancwang/WavCaps/AudioSet_SL/mel/As2BKW0fNsA.npy',\n",
       "  'out_mel': '/blob/v-yuancwang/WavCaps/AudioSet_SL/inpaint/mel/As2BKW0fNsA.npy',\n",
       "  'caption': 'Reconstruct'},\n",
       " {'in_mel': '/blob/v-yuancwang/WavCaps/AudioSet_SL/mel/9GxiPnioa3o.npy',\n",
       "  'out_mel': '/blob/v-yuancwang/WavCaps/AudioSet_SL/inpaint/mel/9GxiPnioa3o.npy',\n",
       "  'caption': 'Inpainting: A vehicle passes by, wind blows, and conversation and taps are heard in the background.'},\n",
       " {'in_mel': '/blob/v-yuancwang/WavCaps/AudioSet_SL/mel/gLZFpwXGNvQ.npy',\n",
       "  'out_mel': '/blob/v-yuancwang/WavCaps/AudioSet_SL/inpaint/mel/gLZFpwXGNvQ.npy',\n",
       "  'caption': 'Inpaint'},\n",
       " {'in_mel': '/blob/v-yuancwang/WavCaps/AudioSet_SL/mel/1uGB5ZLoLeQ.npy',\n",
       "  'out_mel': '/blob/v-yuancwang/WavCaps/AudioSet_SL/inpaint/mel/1uGB5ZLoLeQ.npy',\n",
       "  'caption': 'Inpainting: Animals and speech synthesizer are heard, with mechanisms in the background.'},\n",
       " {'in_mel': '/blob/v-yuancwang/WavCaps/AudioSet_SL/mel/F-Zx_Aqqbjw.npy',\n",
       "  'out_mel': '/blob/v-yuancwang/WavCaps/AudioSet_SL/inpaint/mel/F-Zx_Aqqbjw.npy',\n",
       "  'caption': 'Reconstruct: A turkey gobble and ticking sound are present amid background noise.'}]"
      ]
     },
     "execution_count": 18,
     "metadata": {},
     "output_type": "execute_result"
    }
   ],
   "source": [
    "as_inpaint_infos[:10]"
   ]
  }
 ],
 "metadata": {
  "kernelspec": {
   "display_name": "control",
   "language": "python",
   "name": "python3"
  },
  "language_info": {
   "codemirror_mode": {
    "name": "ipython",
    "version": 3
   },
   "file_extension": ".py",
   "mimetype": "text/x-python",
   "name": "python",
   "nbconvert_exporter": "python",
   "pygments_lexer": "ipython3",
   "version": "3.8.5"
  },
  "orig_nbformat": 4
 },
 "nbformat": 4,
 "nbformat_minor": 2
}
