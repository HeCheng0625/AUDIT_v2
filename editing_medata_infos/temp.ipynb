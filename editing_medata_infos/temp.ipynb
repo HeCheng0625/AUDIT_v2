{
 "cells": [
  {
   "cell_type": "code",
   "execution_count": 37,
   "metadata": {},
   "outputs": [],
   "source": [
    "import os\n",
    "import json\n",
    "import numpy as np"
   ]
  },
  {
   "cell_type": "code",
   "execution_count": 91,
   "metadata": {},
   "outputs": [
    {
     "data": {
      "text/plain": [
       "1232"
      ]
     },
     "execution_count": 91,
     "metadata": {},
     "output_type": "execute_result"
    }
   ],
   "source": [
    "as_json = \"/home/v-yuancwang/AUDIT_v2/medata_infos/soundbible.json\"\n",
    "with open(as_json, \"r\") as f:\n",
    "    as_lists = json.load(f)\n",
    "as_dict = {}\n",
    "for info in as_lists:\n",
    "    as_dict[info[\"mel\"].split(\"/\")[-1]] = info[\"caption\"]\n",
    "len(as_dict)"
   ]
  },
  {
   "cell_type": "code",
   "execution_count": 92,
   "metadata": {},
   "outputs": [
    {
     "data": {
      "text/plain": [
       "1232"
      ]
     },
     "execution_count": 92,
     "metadata": {},
     "output_type": "execute_result"
    }
   ],
   "source": [
    "as_inpaint_mel_path = \"/blob/v-yuancwang/WavCaps/SoundBible/sr/mel\"\n",
    "as_mel_path = \"/blob/v-yuancwang/WavCaps/SoundBible/mel\"\n",
    "as_inpaint_mels = os.listdir(as_inpaint_mel_path)\n",
    "len(as_inpaint_mels)"
   ]
  },
  {
   "cell_type": "code",
   "execution_count": 93,
   "metadata": {},
   "outputs": [],
   "source": [
    "caption_templates = [\"Upscale audio to higher resolution: \\{A\\}\",\n",
    "                    \"Increase resolution: \\{A\\}\",\n",
    "                    \"Perform super-resolution: \\{A\\}\",\n",
    "                    \"Upscale audio to higher resolution\",\n",
    "                    \"Increase resolution\",\n",
    "                    \"Increase the sampling rate of the audio: \\{A\\}\",\n",
    "                    \"Convert low-resolution audio to high-resolution\",\n",
    "                    \"Convert low-resolution audio to high-resolution: \\{A\\}\",\n",
    "                    \"Boost the resolution of the audio track: \\{A\\}\",\n",
    "                    \"Apply super-resolution to the audio to improve clarity: \\{A\\}\",\n",
    "                    \"Super-resolution\",\n",
    "                    \"Super-resolution: \\{A\\}\"]"
   ]
  },
  {
   "cell_type": "code",
   "execution_count": 94,
   "metadata": {},
   "outputs": [
    {
     "data": {
      "text/plain": [
       "1232"
      ]
     },
     "execution_count": 94,
     "metadata": {},
     "output_type": "execute_result"
    }
   ],
   "source": [
    "as_inpaint_infos = []\n",
    "for mel in as_inpaint_mels[:]:\n",
    "    if mel in as_dict:\n",
    "        as_inpaint_infos.append({\"in_mel\": os.path.join(as_inpaint_mel_path, mel),\n",
    "                                \"out_mel\":os.path.join(as_mel_path, mel),\n",
    "                                \"caption\": np.random.choice(caption_templates).replace(\"\\{A\\}\", as_dict[mel])})\n",
    "len(as_inpaint_infos)"
   ]
  },
  {
   "cell_type": "code",
   "execution_count": 95,
   "metadata": {},
   "outputs": [],
   "source": [
    "save_json_path = \"/home/v-yuancwang/AUDIT_v2/editing_medata_infos/sr_soundbible.json\"\n",
    "with open(save_json_path, \"w\") as f:\n",
    "    json.dump(as_inpaint_infos, f)"
   ]
  }
 ],
 "metadata": {
  "kernelspec": {
   "display_name": "control",
   "language": "python",
   "name": "python3"
  },
  "language_info": {
   "codemirror_mode": {
    "name": "ipython",
    "version": 3
   },
   "file_extension": ".py",
   "mimetype": "text/x-python",
   "name": "python",
   "nbconvert_exporter": "python",
   "pygments_lexer": "ipython3",
   "version": "3.8.5"
  },
  "orig_nbformat": 4
 },
 "nbformat": 4,
 "nbformat_minor": 2
}
