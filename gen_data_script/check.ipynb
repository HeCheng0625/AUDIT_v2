{
 "cells": [
  {
   "cell_type": "code",
   "execution_count": 1,
   "metadata": {},
   "outputs": [],
   "source": [
    "from scipy.io.wavfile import read, write\n",
    "import torchaudio\n",
    "import torch\n",
    "from librosa.util import normalize\n",
    "from librosa.filters import mel as librosa_mel_fn\n",
    "import numpy as np\n",
    "import librosa\n",
    "import librosa.display\n",
    "from tqdm import tqdm\n",
    "import os\n",
    "import soundfile as sf\n",
    "import matplotlib.pyplot as plt\n",
    "import json"
   ]
  },
  {
   "cell_type": "code",
   "execution_count": 20,
   "metadata": {},
   "outputs": [],
   "source": [
    "json_path = \"/home/v-yuancwang/AUDIT_v2/editing_medata_infos/inpaint_vgg.json\"\n",
    "with open(json_path, \"r\") as f:\n",
    "    json_infos = json.load(f)\n",
    "np.random.shuffle(json_infos)"
   ]
  },
  {
   "cell_type": "code",
   "execution_count": null,
   "metadata": {},
   "outputs": [],
   "source": [
    "for info in tqdm(json_infos[:1000]):\n",
    "    in_mel_path, out_mel_path = info[\"in_mel\"], info[\"out_mel\"]\n",
    "    in_mel, out_mel = np.load(in_mel_path), np.load(out_mel_path)\n",
    "    if in_mel.shape[1] < 624 or out_mel.shape[1] < 624:\n",
    "        print(in_mel.shape, out_mel.shape)"
   ]
  }
 ],
 "metadata": {
  "kernelspec": {
   "display_name": "control",
   "language": "python",
   "name": "python3"
  },
  "language_info": {
   "codemirror_mode": {
    "name": "ipython",
    "version": 3
   },
   "file_extension": ".py",
   "mimetype": "text/x-python",
   "name": "python",
   "nbconvert_exporter": "python",
   "pygments_lexer": "ipython3",
   "version": "3.8.5"
  },
  "orig_nbformat": 4
 },
 "nbformat": 4,
 "nbformat_minor": 2
}
