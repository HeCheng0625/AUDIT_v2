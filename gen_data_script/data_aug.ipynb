{
 "cells": [
  {
   "cell_type": "code",
   "execution_count": 1,
   "metadata": {},
   "outputs": [],
   "source": [
    "from scipy.io.wavfile import read, write\n",
    "import torchaudio\n",
    "import torch\n",
    "from librosa.util import normalize\n",
    "from librosa.filters import mel as librosa_mel_fn\n",
    "import numpy as np\n",
    "import librosa\n",
    "from IPython.display import Audio\n",
    "from tqdm import tqdm\n",
    "import os\n",
    "import soundfile as sf\n",
    "import json"
   ]
  },
  {
   "cell_type": "code",
   "execution_count": 2,
   "metadata": {},
   "outputs": [],
   "source": [
    "MAX_WAV_VALUE = 32768.0\n",
    "\n",
    "def load_wav(full_path):\n",
    "    sampling_rate, data = read(full_path)\n",
    "    return data, sampling_rate\n",
    "\n",
    "def dynamic_range_compression(x, C=1, clip_val=1e-5):\n",
    "    return np.log(np.clip(x, a_min=clip_val, a_max=None) * C)\n",
    "\n",
    "def dynamic_range_decompression(x, C=1):\n",
    "    return np.exp(x) / C\n",
    "\n",
    "def dynamic_range_compression_torch(x, C=1, clip_val=1e-5):\n",
    "    return torch.log(torch.clamp(x, min=clip_val) * C)\n",
    "\n",
    "def dynamic_range_decompression_torch(x, C=1):\n",
    "    return torch.exp(x) / C\n",
    "\n",
    "def spectral_normalize_torch(magnitudes):\n",
    "    output = dynamic_range_compression_torch(magnitudes)\n",
    "    return output\n",
    "\n",
    "def spectral_de_normalize_torch(magnitudes):\n",
    "    output = dynamic_range_decompression_torch(magnitudes)\n",
    "    return output\n",
    "\n",
    "mel_basis = {}\n",
    "hann_window = {}\n",
    "\n",
    "def mel_spectrogram(y, n_fft, num_mels, sampling_rate, hop_size, win_size, fmin, fmax, center=False):\n",
    "    if torch.min(y) < -1.:\n",
    "        print('min value is ', torch.min(y))\n",
    "    if torch.max(y) > 1.:\n",
    "        print('max value is ', torch.max(y))\n",
    "\n",
    "    global mel_basis, hann_window\n",
    "    if fmax not in mel_basis:\n",
    "        mel = librosa_mel_fn(sr=sampling_rate, n_fft=n_fft, n_mels=num_mels, fmin=fmin, fmax=fmax)\n",
    "        mel_basis[str(fmax)+'_'+str(y.device)] = torch.from_numpy(mel).float().to(y.device)\n",
    "        hann_window[str(y.device)] = torch.hann_window(win_size).to(y.device)\n",
    "\n",
    "    y = torch.nn.functional.pad(y.unsqueeze(1), (int((n_fft-hop_size)/2), int((n_fft-hop_size)/2)), mode='reflect')\n",
    "    y = y.squeeze(1)\n",
    "\n",
    "    spec = torch.stft(y, n_fft, hop_length=hop_size, win_length=win_size, window=hann_window[str(y.device)],\n",
    "                      center=center, pad_mode='reflect', normalized=False, onesided=True)\n",
    "\n",
    "    spec = torch.sqrt(spec.pow(2).sum(-1)+(1e-9))\n",
    "\n",
    "    spec = torch.matmul(mel_basis[str(fmax)+'_'+str(y.device)], spec)\n",
    "    spec = spectral_normalize_torch(spec)\n",
    "\n",
    "    return spec"
   ]
  },
  {
   "cell_type": "code",
   "execution_count": 3,
   "metadata": {},
   "outputs": [
    {
     "name": "stdout",
     "output_type": "stream",
     "text": [
      "45435 449 79147 11754 11754 11754\n"
     ]
    }
   ],
   "source": [
    "ac_train_json = \"/home/v-yuancwang/AUDIT_v2/medata_infos/ac_train.json\"\n",
    "ac_val_json = \"/home/v-yuancwang/AUDIT_v2/medata_infos/ac_val.json\"\n",
    "audioset_sl_json = \"/home/v-yuancwang/AUDIT_v2/medata_infos/audioset_sl.json\"\n",
    "bbc_json = \"/home/v-yuancwang/AUDIT_v2/medata_infos/bbc.json\"\n",
    "soundbible_json = \"/home/v-yuancwang/AUDIT_v2/medata_infos/soundbible.json\"\n",
    "fsd_10s_json = \"/home/v-yuancwang/AUDIT_v2/medata_infos/fsd_10s.json\"\n",
    "\n",
    "with open(ac_train_json, \"r\") as f:\n",
    "    ac_train_infos = json.load(f)\n",
    "with open(ac_val_json, \"r\") as f:\n",
    "    ac_val_infos = json.load(f)\n",
    "with open(audioset_sl_json, \"r\") as f:\n",
    "    audioset_sl_infos = json.load(f)\n",
    "with open(bbc_json, \"r\") as f:\n",
    "    bbc_infos = json.load(f)\n",
    "with open(bbc_json, \"r\") as f:\n",
    "    soundbible_infos = json.load(f)\n",
    "with open(bbc_json, \"r\") as f:\n",
    "    fsd_10s_infos = json.load(f)\n",
    "print(len(ac_train_infos), len(ac_val_infos), len(audioset_sl_infos),\n",
    "      len(bbc_infos), len(soundbible_infos), len(fsd_10s_infos))"
   ]
  },
  {
   "cell_type": "code",
   "execution_count": 7,
   "metadata": {},
   "outputs": [
    {
     "name": "stderr",
     "output_type": "stream",
     "text": [
      "100%|██████████| 160293/160293 [00:00<00:00, 414715.43it/s]"
     ]
    },
    {
     "name": "stdout",
     "output_type": "stream",
     "text": [
      "76815\n"
     ]
    },
    {
     "name": "stderr",
     "output_type": "stream",
     "text": [
      "\n"
     ]
    },
    {
     "data": {
      "text/plain": [
       "[{'mel': '/blob/v-yuancwang/WavCaps/BBC/mel/07043127.npy',\n",
       "  'caption': 'A car is passing by.'},\n",
       " {'mel': '/blob/v-yuancwang/WavCaps/BBC/mel/07044066.npy',\n",
       "  'caption': 'A bicycle is approaching and skidding.'},\n",
       " {'mel': '/blob/v-yuancwang/WavCaps/BBC/mel/07043344.npy',\n",
       "  'caption': 'A torpedo is passing from left to right.'},\n",
       " {'mel': '/blob/v-yuancwang/WavCaps/BBC/mel/NHU05061045.npy',\n",
       "  'caption': 'A bird is calling while perched.'},\n",
       " {'mel': '/blob/v-yuancwang/WavCaps/BBC/mel/07043241.npy',\n",
       "  'caption': 'A rapid cyclical alarm is sounding.'},\n",
       " {'mel': '/blob/v-yuancwang/WavCaps/BBC/mel/07057085.npy',\n",
       "  'caption': 'Applause is heard.'},\n",
       " {'mel': '/blob/v-yuancwang/WavCaps/BBC/mel/07001019.npy',\n",
       "  'caption': 'A carving knife is being sharpened on steel.'},\n",
       " {'mel': '/blob/v-yuancwang/WavCaps/BBC/mel/07032304.npy',\n",
       "  'caption': 'An express train is arriving.'},\n",
       " {'mel': '/blob/v-yuancwang/WavCaps/BBC/mel/07002279.npy',\n",
       "  'caption': 'A tractor is passing by.'},\n",
       " {'mel': '/blob/v-yuancwang/WavCaps/BBC/mel/NHU05066113.npy',\n",
       "  'caption': 'A bird is singing and making calls.'}]"
      ]
     },
     "execution_count": 7,
     "metadata": {},
     "output_type": "execute_result"
    }
   ],
   "source": [
    "six_sets_infos = bbc_infos + soundbible_infos + fsd_10s_infos + audioset_sl_infos + ac_train_infos + ac_val_infos\n",
    "a_infos = []\n",
    "for info in tqdm(six_sets_infos[:]):\n",
    "    if len(info[\"caption\"].split(\" \")) <= 8:\n",
    "        a_infos.append(info)\n",
    "print(len(a_infos))\n",
    "a_infos[:10]"
   ]
  },
  {
   "cell_type": "code",
   "execution_count": null,
   "metadata": {},
   "outputs": [],
   "source": [
    "fsd2s_json_file = \"/home/v-yuancwang/AUDIT_v2/medata_infos/fsd_2s.json\"\n",
    "fsd50k_2s_json_file = \"/home/v-yuancwang/AUDIT_v2/medata_infos/fsd50k_2s.json\"\n",
    "fsd5s_json_file = \"/home/v-yuancwang/AUDIT_v2/medata_infos/fsd_5s.json\"\n",
    "fsd50k_5s_json_file = \"/home/v-yuancwang/AUDIT_v2/medata_infos/fsd50k_5s.json\"\n",
    "with open(fsd2s_json_file, \"r\") as f:\n",
    "    fsd2s_infos = json.load(f)\n",
    "with open(fsd5s_json_file, \"r\") as f:\n",
    "    fsd5s_infos = json.load(f)\n",
    "with open(fsd50k_2s_json_file, \"r\") as f:\n",
    "    fsd50k_2s_infos = json.load(f)\n",
    "with open(fsd50k_5s_json_file, \"r\") as f:\n",
    "    fsd50k_5s_infos = json.load(f)\n",
    "print(len(fsd2s_infos), len(fsd5s_infos), len(fsd50k_2s_infos), len(fsd50k_5s_infos))"
   ]
  },
  {
   "cell_type": "code",
   "execution_count": null,
   "metadata": {},
   "outputs": [],
   "source": [
    "b_infos = fsd2s_infos + fsd5s_infos + fsd50k_2s_infos + fsd50k_5s_infos\n",
    "len(b_infos)"
   ]
  },
  {
   "cell_type": "code",
   "execution_count": null,
   "metadata": {},
   "outputs": [],
   "source": [
    "b_before_a_templates = [\"\\{B\\}, then \\{A\\}\", \"\\{B\\}, then, \\{A\\}\", \"\\{A\\} come after \\{B\\}\", \"\\{B\\} followed by \\{A\\}\",\n",
    "             \"\\{B\\} took place before \\{A\\}\", \"\\{B\\}, and then \\{A\\}\", \"\\{B\\}, after that \\{A\\}\", \"\\{B\\}, before \\{A\\}\"]"
   ]
  },
  {
   "cell_type": "code",
   "execution_count": null,
   "metadata": {},
   "outputs": [],
   "source": [
    "add_wav_path = \"/blob/v-yuancwang/WavCaps/Add/wav\"\n",
    "add_mel_path = \"/blob/v-yuancwang/WavCaps/Add/mel\""
   ]
  },
  {
   "cell_type": "code",
   "execution_count": null,
   "metadata": {},
   "outputs": [],
   "source": [
    "json_lists = []\n",
    "for i in range(30000)[:]:\n",
    "    a_id = np.random.randint(0, len(a_infos))\n",
    "    b_id = np.random.randint(0, len(b_infos))\n",
    "    a_wav_path, a_caption = a_infos[a_id][\"mel\"].replace(\"/mel/\", \"/wav/\").replace(\".npy\", \".wav\"), a_infos[a_id][\"caption\"]\n",
    "    b_wav_path, b_caption = b_infos[b_id][\"mel\"].replace(\"/mel/\", \"/wav/\").replace(\".npy\", \".wav\"), b_infos[b_id][\"caption\"]\n",
    "    template = np.random.choice(b_before_a_templates)\n",
    "    caption = template.replace(\"\\{A\\}\", a_caption.lower().replace(\".\", \"\")).replace(\"\\{B\\}\", b_caption.lower().replace(\".\", \"\"))\n",
    "    # print(caption)\n",
    "    a_mel, b_mel = np.load(a_infos[a_id][\"mel\"]), np.load(b_infos[b_id][\"mel\"])\n",
    "    a_wav, sr = librosa.load(a_wav_path, sr=16000)\n",
    "    b_wav, sr = librosa.load(b_wav_path, sr=16000)\n",
    "    # print(b_wav.shape)\n",
    "    a_wav = np.pad(a_wav, (int(len(b_wav)*np.random.uniform(0.5, 0.7)), max(0, 16000*10-len(a_wav))), \n",
    "                   'constant', constant_values=(0,0))[:16000*10]\n",
    "    b_wav = np.pad(b_wav, (0, 16000*10-len(b_wav)), 'constant', constant_values=(0,0))[:16000*10]\n",
    "    c_wav = a_wav + b_wav\n",
    "    \n",
    "    c_wav = np.clip(c_wav, -1, 1)\n",
    "    x = torch.FloatTensor(c_wav)\n",
    "    x = mel_spectrogram(x.unsqueeze(0), n_fft=1024, num_mels=80, sampling_rate=16000,\n",
    "                        hop_size=256, win_size=1024, fmin=0, fmax=8000)\n",
    "    spec = x.cpu().numpy()[0]\n",
    "\n",
    "    c_wav = c_wav * MAX_WAV_VALUE\n",
    "    c_wav = c_wav.astype('int16')\n",
    "    write(os.path.join(add_wav_path, \"add_{}\".format(str(i))+\".wav\"), 16000, c_wav)\n",
    "    np.save(os.path.join(add_mel_path, \"add_{}\".format(str(i))+\".npy\"), spec)\n",
    "    json_lists.append({\"mel\": os.path.join(add_mel_path, \"add_{}\".format(str(i))+\".npy\"),\n",
    "                       \"caption\": caption})\n",
    "    \n",
    "with open(\"/home/v-yuancwang/AUDIT_v2/medata_infos/add_b_before_a.json\", \"w\") as f:\n",
    "    json.dump(json_lists, f)"
   ]
  },
  {
   "cell_type": "code",
   "execution_count": null,
   "metadata": {},
   "outputs": [],
   "source": [
    "import matplotlib.pyplot as plt"
   ]
  },
  {
   "cell_type": "code",
   "execution_count": null,
   "metadata": {},
   "outputs": [],
   "source": [
    "plt.imshow(np.load(\"/blob/v-yuancwang/WavCaps/Add/mel/add_2.npy\"))"
   ]
  },
  {
   "cell_type": "code",
   "execution_count": null,
   "metadata": {},
   "outputs": [],
   "source": []
  },
  {
   "cell_type": "code",
   "execution_count": null,
   "metadata": {},
   "outputs": [],
   "source": [
    "test_json = \"/home/v-yuancwang/AUDIT_v2/medata_infos/soundbible.json\"\n",
    "with open(test_json, \"r\") as f:\n",
    "    test_infos = json.load(f)\n",
    "for info in tqdm(test_infos[:1000]):\n",
    "    wav_id = info[\"mel\"].replace(\"/mel/\", \"/wav/\").replace(\".npy\", \".wav\")\n",
    "    wav, sr = librosa.load(wav_id, sr=16000)\n",
    "    if len(wav) < 16000*10:\n",
    "        print(len(wav))\n",
    "        print(np.load(info[\"mel\"]).shape)"
   ]
  }
 ],
 "metadata": {
  "kernelspec": {
   "display_name": "control",
   "language": "python",
   "name": "python3"
  },
  "language_info": {
   "codemirror_mode": {
    "name": "ipython",
    "version": 3
   },
   "file_extension": ".py",
   "mimetype": "text/x-python",
   "name": "python",
   "nbconvert_exporter": "python",
   "pygments_lexer": "ipython3",
   "version": "3.8.5"
  },
  "orig_nbformat": 4
 },
 "nbformat": 4,
 "nbformat_minor": 2
}
