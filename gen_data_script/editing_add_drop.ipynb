{
 "cells": [
  {
   "cell_type": "code",
   "execution_count": null,
   "metadata": {},
   "outputs": [],
   "source": [
    "from scipy.io.wavfile import read, write\n",
    "import torchaudio\n",
    "import torch\n",
    "from librosa.util import normalize\n",
    "from librosa.filters import mel as librosa_mel_fn\n",
    "import numpy as np\n",
    "import librosa\n",
    "from IPython.display import Audio\n",
    "from tqdm import tqdm\n",
    "import os\n",
    "import soundfile as sf\n",
    "import json"
   ]
  },
  {
   "cell_type": "code",
   "execution_count": null,
   "metadata": {},
   "outputs": [],
   "source": [
    "MAX_WAV_VALUE = 32768.0\n",
    "\n",
    "def load_wav(full_path):\n",
    "    sampling_rate, data = read(full_path)\n",
    "    return data, sampling_rate\n",
    "\n",
    "def dynamic_range_compression(x, C=1, clip_val=1e-5):\n",
    "    return np.log(np.clip(x, a_min=clip_val, a_max=None) * C)\n",
    "\n",
    "def dynamic_range_decompression(x, C=1):\n",
    "    return np.exp(x) / C\n",
    "\n",
    "def dynamic_range_compression_torch(x, C=1, clip_val=1e-5):\n",
    "    return torch.log(torch.clamp(x, min=clip_val) * C)\n",
    "\n",
    "def dynamic_range_decompression_torch(x, C=1):\n",
    "    return torch.exp(x) / C\n",
    "\n",
    "def spectral_normalize_torch(magnitudes):\n",
    "    output = dynamic_range_compression_torch(magnitudes)\n",
    "    return output\n",
    "\n",
    "def spectral_de_normalize_torch(magnitudes):\n",
    "    output = dynamic_range_decompression_torch(magnitudes)\n",
    "    return output\n",
    "\n",
    "mel_basis = {}\n",
    "hann_window = {}\n",
    "\n",
    "def mel_spectrogram(y, n_fft, num_mels, sampling_rate, hop_size, win_size, fmin, fmax, center=False):\n",
    "    if torch.min(y) < -1.:\n",
    "        print('min value is ', torch.min(y))\n",
    "    if torch.max(y) > 1.:\n",
    "        print('max value is ', torch.max(y))\n",
    "\n",
    "    global mel_basis, hann_window\n",
    "    if fmax not in mel_basis:\n",
    "        mel = librosa_mel_fn(sr=sampling_rate, n_fft=n_fft, n_mels=num_mels, fmin=fmin, fmax=fmax)\n",
    "        mel_basis[str(fmax)+'_'+str(y.device)] = torch.from_numpy(mel).float().to(y.device)\n",
    "        hann_window[str(y.device)] = torch.hann_window(win_size).to(y.device)\n",
    "\n",
    "    y = torch.nn.functional.pad(y.unsqueeze(1), (int((n_fft-hop_size)/2), int((n_fft-hop_size)/2)), mode='reflect')\n",
    "    y = y.squeeze(1)\n",
    "\n",
    "    spec = torch.stft(y, n_fft, hop_length=hop_size, win_length=win_size, window=hann_window[str(y.device)],\n",
    "                      center=center, pad_mode='reflect', normalized=False, onesided=True)\n",
    "\n",
    "    spec = torch.sqrt(spec.pow(2).sum(-1)+(1e-9))\n",
    "\n",
    "    spec = torch.matmul(mel_basis[str(fmax)+'_'+str(y.device)], spec)\n",
    "    spec = spectral_normalize_torch(spec)\n",
    "\n",
    "    return spec"
   ]
  },
  {
   "cell_type": "code",
   "execution_count": null,
   "metadata": {},
   "outputs": [],
   "source": [
    "a_add_b_1_templates = [\"Add a sound effect of \\{A\\} at the beginning\",\n",
    "                        \"Add \\{A\\} at the beginning\", \"Insert \\{A\\} at the start\",\n",
    "                        \"Put a \\{A\\} sound effect at the beginning\",\n",
    "                        \"Introduce a sound effect of \\{A\\} at the start\",\n",
    "                        \"Add \\{A\\} in the beginning\",\n",
    "                        \"Add \\{A\\} to the beginning of the audio\",\n",
    "                        \"Add a sound effect of \\{A\\} to the beginning of the audio\",\n",
    "                        \"Combine \\{A\\} with the initial part of the audio\",\n",
    "                        \"Mix \\{A\\} with the first part of the audio\",\n",
    "                        \"Add a short clip of \\{A\\} in the beginning\",\n",
    "                        \"Add a brief sound effect of \\{A\\} at the start\",\n",
    "                        \"Fuse a short sound of \\{A\\} to the start of the audio track\",\n",
    "                        \"Place a short audio of \\{A\\} at the beginning of the audio\",\n",
    "                        \"Add: \\{A\\} in the beginning\",\n",
    "                        \"add: \\{A\\} in the beginning\"]"
   ]
  },
  {
   "cell_type": "code",
   "execution_count": null,
   "metadata": {},
   "outputs": [],
   "source": [
    "a_add_b_2_templates = [\"Insert \\{A\\} in the middle of the audio\",\n",
    "                        \"Insert: \\{A\\} in the middle\",\n",
    "                        \"Add a sound effect of \\{A\\} in the middle\",\n",
    "                        \"Add a short clip of \\{A\\} in the middle\",\n",
    "                        \"Add: \\{A\\} in the middle\",\n",
    "                        \"Add \\{A\\} at the midpoint\",\n",
    "                        \"Add a sound effect of \\{A\\} at the midpoint\",\n",
    "                        \"Include:\\{A\\} in the middle section\",\n",
    "                        \"Integrate \\{A\\} in the middle\",\n",
    "                        \"Blend \\{A\\} with the audio at the halfway point\",\n",
    "                        \"Mix \\{A\\} into the middle part\",\n",
    "                        \"Fuse \\{A\\} into the audio at the midpoint\",\n",
    "                        \"Merge \\{A\\} into the middle section of the audio\",\n",
    "                        \"Combine \\{A\\} with the audio at the middle point\",\n",
    "                        \"Place a \\{A\\} in the middle of the audio track\",\n",
    "                        \"Merge: a short clip of \\{A\\} into the audio at the midpoint\"]"
   ]
  },
  {
   "cell_type": "code",
   "execution_count": null,
   "metadata": {},
   "outputs": [],
   "source": [
    "a_add_b_3_templates = [\"Add \\{A\\} at the end\",\n",
    "                        \"Add: \\{A\\} with the final part\",\n",
    "                        \"Add: \\{A\\} at the end\",\n",
    "                        \"Add a short clip of \\{A\\} at the end\",\n",
    "                        \"Add: a short clip of \\{A\\} at the end\",\n",
    "                        \"Append \\{A\\} to the end\",\n",
    "                        \"Include a sound effect of \\{A\\} in the end\",\n",
    "                        \"Integrate \\{A\\} as the final sound of the audio\",\n",
    "                        \"Blend \\{A\\} with the last part of the audio\",\n",
    "                        \"Mix \\{A\\} with the final part\",\n",
    "                        \"Mix: \\{A\\} with the final part\",\n",
    "                        \"Fuse \\{A\\} to the end of the audio\",\n",
    "                        \"Merge \\{A\\} with the closing sequence of the audio\",\n",
    "                        \"Combine \\{A\\} with the final part\",\n",
    "                        \"Place \\{A\\} at the end\",\n",
    "                        \"Place a sound effect of \\{A\\} at the end\",\n",
    "                        \"Place: \\{A\\} at the end\"]"
   ]
  },
  {
   "cell_type": "code",
   "execution_count": null,
   "metadata": {},
   "outputs": [],
   "source": []
  },
  {
   "cell_type": "code",
   "execution_count": null,
   "metadata": {},
   "outputs": [],
   "source": []
  },
  {
   "cell_type": "code",
   "execution_count": null,
   "metadata": {},
   "outputs": [],
   "source": []
  },
  {
   "cell_type": "code",
   "execution_count": null,
   "metadata": {},
   "outputs": [],
   "source": [
    "# import pandas as pd"
   ]
  },
  {
   "cell_type": "code",
   "execution_count": null,
   "metadata": {},
   "outputs": [],
   "source": [
    "# dev_df =pd.read_csv(\"/blob/v-yuancwang/FSD50K/FSD50K.ground_truth/dev.csv\")\n",
    "# dev_set = {}\n",
    "# for wav_id, label in zip(dev_df[\"fname\"], dev_df[\"labels\"]):\n",
    "#     dev_set[str(wav_id)] = label.split(\",\")[0].replace(\"_\", \" \", 5)\n",
    "# dev_set"
   ]
  },
  {
   "cell_type": "code",
   "execution_count": null,
   "metadata": {},
   "outputs": [],
   "source": [
    "# fsd50k_dev_infos = []\n",
    "# fsd50k_dev_path = \"/blob/v-yuancwang/FSD50K/FSD50K.dev_audio\"\n",
    "# fsd50k_dev_list = os.listdir(fsd50k_dev_path)"
   ]
  },
  {
   "cell_type": "code",
   "execution_count": null,
   "metadata": {},
   "outputs": [],
   "source": [
    "# for wav_id in tqdm(fsd50k_dev_list[:]):\n",
    "#     wav_path = os.path.join(fsd50k_dev_path, wav_id)\n",
    "#     wav, sr = librosa.load(wav_path, sr=16000)\n",
    "#     if len(wav) < 16000*5.1:\n",
    "#         fsd50k_dev_infos.append({\"wav\": wav_path, \"caption\": dev_set[wav_id.replace(\".wav\", \"\")]})\n",
    "# fsd50k_dev_infos[:10]"
   ]
  },
  {
   "cell_type": "code",
   "execution_count": null,
   "metadata": {},
   "outputs": [],
   "source": [
    "# len(fsd50k_dev_infos)"
   ]
  },
  {
   "cell_type": "code",
   "execution_count": null,
   "metadata": {},
   "outputs": [],
   "source": [
    "# eval_df =pd.read_csv(\"/blob/v-yuancwang/FSD50K/FSD50K.ground_truth/eval.csv\")\n",
    "# eval_set = {}\n",
    "# for wav_id, label in zip(eval_df[\"fname\"], eval_df[\"labels\"]):\n",
    "#     eval_set[str(wav_id)] = label.split(\",\")[0].replace(\"_\", \" \", 5)\n",
    "# eval_set"
   ]
  },
  {
   "cell_type": "code",
   "execution_count": null,
   "metadata": {},
   "outputs": [],
   "source": [
    "# fsd50k_eval_infos = []\n",
    "# fsd50k_eval_path = \"/blob/v-yuancwang/FSD50K/FSD50K.eval_audio\"\n",
    "# fsd50k_eval_list = os.listdir(fsd50k_eval_path)"
   ]
  },
  {
   "cell_type": "code",
   "execution_count": null,
   "metadata": {},
   "outputs": [],
   "source": [
    "# for wav_id in tqdm(fsd50k_eval_list[:]):\n",
    "#     wav_path = os.path.join(fsd50k_eval_path, wav_id)\n",
    "#     wav, sr = librosa.load(wav_path, sr=16000)\n",
    "#     if len(wav) < 16000*5.1:\n",
    "#         fsd50k_eval_infos.append({\"wav\": wav_path, \"caption\": eval_set[wav_id.replace(\".wav\", \"\")]})\n",
    "# fsd50k_eval_infos[:10]"
   ]
  },
  {
   "cell_type": "code",
   "execution_count": null,
   "metadata": {},
   "outputs": [],
   "source": [
    "# print(len(fsd50k_eval_infos))"
   ]
  },
  {
   "cell_type": "code",
   "execution_count": null,
   "metadata": {},
   "outputs": [],
   "source": [
    "# fsd50k_short_infos = fsd50k_dev_infos + fsd50k_eval_infos"
   ]
  },
  {
   "cell_type": "code",
   "execution_count": null,
   "metadata": {},
   "outputs": [],
   "source": [
    "# with open(\"/home/v-yuancwang/AUDIT_v2/medata_infos/fsd50k_short.json\", \"w\") as f:\n",
    "#     json.dump(fsd50k_short_infos, f)"
   ]
  },
  {
   "cell_type": "code",
   "execution_count": null,
   "metadata": {},
   "outputs": [],
   "source": [
    "# Audio(\"/blob/v-yuancwang/FSD50K/FSD50K.dev_audio/117942.wav\")"
   ]
  }
 ],
 "metadata": {
  "kernelspec": {
   "display_name": "control",
   "language": "python",
   "name": "python3"
  },
  "language_info": {
   "codemirror_mode": {
    "name": "ipython",
    "version": 3
   },
   "file_extension": ".py",
   "mimetype": "text/x-python",
   "name": "python",
   "nbconvert_exporter": "python",
   "pygments_lexer": "ipython3",
   "version": "3.8.5"
  },
  "orig_nbformat": 4
 },
 "nbformat": 4,
 "nbformat_minor": 2
}
