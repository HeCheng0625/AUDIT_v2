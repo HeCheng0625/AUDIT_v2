{
 "cells": [
  {
   "cell_type": "code",
   "execution_count": 1,
   "metadata": {},
   "outputs": [],
   "source": [
    "from diffusers import AutoencoderKL\n",
    "import torch\n",
    "import os\n",
    "import numpy as np\n",
    "import librosa\n",
    "from tqdm import tqdm\n",
    "import soundfile as sf\n",
    "import torchaudio\n",
    "import json\n",
    "from IPython.display import Audio\n",
    "import matplotlib.pyplot as plt"
   ]
  },
  {
   "cell_type": "code",
   "execution_count": 3,
   "metadata": {},
   "outputs": [
    {
     "data": {
      "text/plain": [
       "[{'mel': '/blob/v-yuancwang/DiffAudioImg/VGGSound/data/ac_train/mel/---1_cCGK4M_0_10000.npy',\n",
       "  'caption': 'Idling car, train blows horn and passes'},\n",
       " {'mel': '/blob/v-yuancwang/DiffAudioImg/VGGSound/data/ac_train/mel/---lTs1dxhU_30000_40000.npy',\n",
       "  'caption': 'A racing vehicle engine is heard passing by'}]"
      ]
     },
     "execution_count": 3,
     "metadata": {},
     "output_type": "execute_result"
    }
   ],
   "source": [
    "ac_train_json = \"/home/v-yuancwang/AUDIT_v2/medata_infos/ac_train.json\"\n",
    "with open(ac_train_json, \"r\") as f:\n",
    "    ac_train_list = json.load(f)\n",
    "ac_train_list[:2]"
   ]
  },
  {
   "cell_type": "code",
   "execution_count": null,
   "metadata": {},
   "outputs": [],
   "source": [
    "vae = AutoencoderKL.from_pretrained(\"/blob/v-yuancwang/AudioEditingModel/VAE_GAN/checkpoint-40000/vae\")\n",
    "vae.requires_grad_(False)\n",
    "torch_device = torch.device(\"cuda:1\")\n",
    "vae.to(torch_device)"
   ]
  },
  {
   "cell_type": "code",
   "execution_count": 15,
   "metadata": {},
   "outputs": [
    {
     "name": "stderr",
     "output_type": "stream",
     "text": [
      "100%|██████████| 10/10 [00:01<00:00,  5.74it/s]\n"
     ]
    }
   ],
   "source": [
    "vae_lists = []\n",
    "\n",
    "for info in tqdm(ac_train_list[:10]):\n",
    "    mel_path = info[\"mel\"]\n",
    "    wav_path = mel_path.replace(\"/mel/\", \"/wav/\").replace(\".npy\", \".wav\")\n",
    "    wav, sr = librosa.load(wav_path, sr=16000)\n",
    "    if len(wav) < 159500:\n",
    "        continue\n",
    "    mel = np.load(mel_path)\n",
    "\n",
    "    test_mel_tensor = np.expand_dims(np.expand_dims(mel[:624], 0), 0)\n",
    "    test_mel_tensor = torch.Tensor(test_mel_tensor).to(torch_device)\n",
    "    with torch.no_grad():\n",
    "        posterior = vae.encode(test_mel_tensor).latent_dist\n",
    "        z = posterior.sample()\n",
    "        vae_output = vae.decode(z).sample\n",
    "    vae_res = vae_output[0][0].cpu().numpy()\n",
    "\n",
    "    np.save(mel_path.replace(\"/mel/\", \"/vae_mel/\"), vae_res)\n",
    "    vae_lists.append(info)\n",
    "\n",
    "with open(\"/home/v-yuancwang/AUDIT_v2/hifigan_ft_infos/ac_train.json\", \"w\") as f:\n",
    "\n"
   ]
  }
 ],
 "metadata": {
  "kernelspec": {
   "display_name": "control",
   "language": "python",
   "name": "python3"
  },
  "language_info": {
   "codemirror_mode": {
    "name": "ipython",
    "version": 3
   },
   "file_extension": ".py",
   "mimetype": "text/x-python",
   "name": "python",
   "nbconvert_exporter": "python",
   "pygments_lexer": "ipython3",
   "version": "3.8.5"
  },
  "orig_nbformat": 4
 },
 "nbformat": 4,
 "nbformat_minor": 2
}
