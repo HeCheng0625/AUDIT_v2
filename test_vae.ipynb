{
 "cells": [
  {
   "cell_type": "code",
   "execution_count": null,
   "metadata": {},
   "outputs": [],
   "source": [
    "import os\n",
    "import torch\n",
    "import numpy as np\n",
    "import diffusers\n",
    "from diffusers import AutoencoderKL"
   ]
  },
  {
   "cell_type": "code",
   "execution_count": null,
   "metadata": {},
   "outputs": [],
   "source": [
    "import matplotlib.pyplot as plt"
   ]
  },
  {
   "cell_type": "code",
   "execution_count": null,
   "metadata": {},
   "outputs": [],
   "source": [
    "test_id = \"/blob/v-yuancwang/DiffAudioImg/VGGSound/data/ac_train/mel/--zLzL0sq3M_30000_40000.npy\"\n",
    "test_mel = np.load(test_id)[:,:624]\n",
    "print(test_mel.shape)\n",
    "plt.imshow(test_mel)"
   ]
  },
  {
   "cell_type": "code",
   "execution_count": null,
   "metadata": {},
   "outputs": [],
   "source": [
    "vae = AutoencoderKL.from_pretrained(\"/blob/v-yuancwang/AudioEditingModel/VAE_GAN/checkpoint-50000/vae\")\n",
    "vae.requires_grad_(False)"
   ]
  },
  {
   "cell_type": "code",
   "execution_count": null,
   "metadata": {},
   "outputs": [],
   "source": [
    "test_mel_tensor = np.expand_dims(np.expand_dims(test_mel, 0), 0)\n",
    "test_mel_tensor = torch.Tensor(test_mel_tensor)\n",
    "test_mel_tensor.shape"
   ]
  },
  {
   "cell_type": "code",
   "execution_count": null,
   "metadata": {},
   "outputs": [],
   "source": [
    "with torch.no_grad():\n",
    "    posterior = vae.encode(test_mel_tensor).latent_dist\n",
    "    z = posterior.sample()\n",
    "    vae_output = vae.decode(z).sample"
   ]
  },
  {
   "cell_type": "code",
   "execution_count": null,
   "metadata": {},
   "outputs": [],
   "source": [
    "vae_res = vae_output[0][0].numpy()\n",
    "print(vae_res.shape)\n",
    "plt.imshow(vae_res)"
   ]
  },
  {
   "cell_type": "code",
   "execution_count": null,
   "metadata": {},
   "outputs": [],
   "source": []
  },
  {
   "cell_type": "code",
   "execution_count": null,
   "metadata": {},
   "outputs": [],
   "source": [
    "vae_res = vae_output[0][0].numpy()\n",
    "print(vae_res.shape)\n",
    "plt.imshow(vae_res)"
   ]
  }
 ],
 "metadata": {
  "kernelspec": {
   "display_name": "control",
   "language": "python",
   "name": "python3"
  },
  "language_info": {
   "codemirror_mode": {
    "name": "ipython",
    "version": 3
   },
   "file_extension": ".py",
   "mimetype": "text/x-python",
   "name": "python",
   "nbconvert_exporter": "python",
   "pygments_lexer": "ipython3",
   "version": "3.8.5"
  },
  "orig_nbformat": 4
 },
 "nbformat": 4,
 "nbformat_minor": 2
}
